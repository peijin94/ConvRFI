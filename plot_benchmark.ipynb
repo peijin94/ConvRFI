{
 "cells": [
  {
   "cell_type": "code",
   "execution_count": 1,
   "metadata": {},
   "outputs": [],
   "source": [
    "import re\n",
    "import matplotlib.pyplot as plt\n",
    "import numpy as np\n",
    "import os\n",
    "import glob"
   ]
  },
  {
   "cell_type": "code",
   "execution_count": null,
   "metadata": {},
   "outputs": [],
   "source": [
    "txt = \"60        40        666.8     16.7      8.6          data_test=f['SUB_ARRAY_POINTING_'+SAP+'/BEAM_'+beam_this+'/STOKES_0']\"\n",
    "\n",
    "pattern = r'[\\d]+[.,\\d]+|[\\d]*[.][\\d]+|[\\d]+' #'^-?\\d+(?:\\.\\d+)$'\n",
    "[float(s) for s in txt.split() if re.match(pattern, s)]\n",
    "\n",
    "f=open('filename')\n",
    "lines=f.readlines()"
   ]
  }
 ],
 "metadata": {
  "kernelspec": {
   "display_name": "Python 3.9.7 ('base')",
   "language": "python",
   "name": "python3"
  },
  "language_info": {
   "codemirror_mode": {
    "name": "ipython",
    "version": 3
   },
   "file_extension": ".py",
   "mimetype": "text/x-python",
   "name": "python",
   "nbconvert_exporter": "python",
   "pygments_lexer": "ipython3",
   "version": "3.9.7"
  },
  "orig_nbformat": 4,
  "vscode": {
   "interpreter": {
    "hash": "86cd6e3326b248843c7d08db0154f33baa30340e37cfcc487eea1f08ebe2e630"
   }
  }
 },
 "nbformat": 4,
 "nbformat_minor": 2
}
