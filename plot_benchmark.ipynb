{
 "cells": [
  {
   "cell_type": "code",
   "execution_count": 6,
   "metadata": {},
   "outputs": [],
   "source": [
    "import re\n",
    "import matplotlib.pyplot as plt\n",
    "import numpy as np\n",
    "import os\n",
    "import glob"
   ]
  },
  {
   "cell_type": "code",
   "execution_count": 7,
   "metadata": {},
   "outputs": [],
   "source": [
    "#txt = \"60        40        666.8     16.7      8.6          data_test=f['SUB_ARRAY_POINTING_'+SAP+'/BEAM_'+beam_this+'/STOKES_0']\"\n",
    "#pattern = r'[\\d]+[.,\\d]+|[\\d]*[.][\\d]+|[\\d]+' #'^-?\\d+(?:\\.\\d+)$'\n",
    "#[float(s) for s in txt.split() if re.match(pattern, s)]\n",
    "\n",
    "#f=open('filename')\n",
    "#lines=f.readlines()\n",
    "\n",
    "l_number_read  = [24,28,29,30,31,32,34,38]\n",
    "#l_number_read = [30]\n",
    "\n",
    "# IO  24\n",
    "# cpu2gpu 28,29\n",
    "# 30 conv 30\n",
    "# gpu2cpu 31\n",
    "# downsample 32 34 38\n",
    "\n"
   ]
  },
  {
   "cell_type": "code",
   "execution_count": 8,
   "metadata": {},
   "outputs": [],
   "source": [
    "# read given line from file\n",
    "def read_line(filename, line_number):\n",
    "    with open(filename) as f:\n",
    "        for i, line in enumerate(f):\n",
    "            if i == line_number:\n",
    "                return line\n",
    "\n",
    "def extract_time_consumption(fname,l_lst=l_number_read):\n",
    "    res = []\n",
    "    for line in l_lst:\n",
    "        line  =  read_line(fname,line-1).replace('-','')\n",
    "    \n",
    "        pattern = r'[\\d]+[.,\\d]+|[\\d]*[.][\\d]+|[\\d]+' #'^-?\\d+(?:\\.\\d+)$'\n",
    "        res.append([float(s) for s in line.split() if re.match(pattern, s)])\n",
    "\n",
    "    return res"
   ]
  },
  {
   "cell_type": "code",
   "execution_count": null,
   "metadata": {},
   "outputs": [],
   "source": []
  },
  {
   "cell_type": "code",
   "execution_count": 9,
   "metadata": {},
   "outputs": [],
   "source": [
    "bc_res  =[round(float(x[2]),1) for x in extract_time_consumption('benchmark_res/p_cuda_c8000_t320000.txt')]"
   ]
  },
  {
   "cell_type": "code",
   "execution_count": 10,
   "metadata": {},
   "outputs": [
    {
     "name": "stdout",
     "output_type": "stream",
     "text": [
      "5557.9 & 2549.5 & 5012.8 & 2937.8 & 5336.5 & 21394.5\n"
     ]
    }
   ],
   "source": [
    "print(np.round(bc_res[0],8),'&',round(bc_res[1]+bc_res[2],2),'&',\n",
    "      round(bc_res[3],2),'&',round(bc_res[4],2),'&',\n",
    "      round(bc_res[5]+bc_res[6]+bc_res[7],2),'&',\n",
    "      round(np.sum(bc_res),2)\n",
    "     )"
   ]
  },
  {
   "cell_type": "code",
   "execution_count": null,
   "metadata": {},
   "outputs": [],
   "source": []
  },
  {
   "cell_type": "code",
   "execution_count": null,
   "metadata": {},
   "outputs": [],
   "source": []
  },
  {
   "cell_type": "code",
   "execution_count": 52,
   "metadata": {},
   "outputs": [],
   "source": [
    "batch_size = [1000,2000,4000,8000]#,16000,32000]\n",
    "\n",
    "all_bench  = []\n",
    "for c_str in batch_size:\n",
    "    t_bench = [float(x[2]) for x in extract_time_consumption(\n",
    "        'benchmark_res/p_cpu_c'\n",
    "        +str(c_str)+'_t320000.txt')]\n",
    "    all_bench.append(t_bench)"
   ]
  },
  {
   "cell_type": "code",
   "execution_count": 53,
   "metadata": {},
   "outputs": [],
   "source": [
    "all_bench = np.array(all_bench)\n"
   ]
  },
  {
   "cell_type": "code",
   "execution_count": 55,
   "metadata": {},
   "outputs": [
    {
     "data": {
      "text/plain": [
       "[None, None]"
      ]
     },
     "execution_count": 55,
     "metadata": {},
     "output_type": "execute_result"
    },
    {
     "data": {
      "image/png": "[encoded data removed]",
      "text/plain": [
       "<Figure size 432x288 with 1 Axes>"
      ]
     },
     "metadata": {
      "needs_background": "light"
     },
     "output_type": "display_data"
    }
   ],
   "source": [
    "plt.figure()\n",
    "ax =   plt.gca()\n",
    "ax.plot(batch_size,all_bench/1000)\n",
    "plt.setp(ax,yscale='log',xscale='log')\n"
   ]
  },
  {
   "cell_type": "code",
   "execution_count": null,
   "metadata": {},
   "outputs": [],
   "source": []
  }
 ],
 "metadata": {
  "kernelspec": {
   "display_name": "Python 3 (ipykernel)",
   "language": "python",
   "name": "python3"
  },
  "language_info": {
   "codemirror_mode": {
    "name": "ipython",
    "version": 3
   },
   "file_extension": ".py",
   "mimetype": "text/x-python",
   "name": "python",
   "nbconvert_exporter": "python",
   "pygments_lexer": "ipython3",
   "version": "3.9.7"
  },
  "vscode": {
   "interpreter": {
    "hash": "86cd6e3326b248843c7d08db0154f33baa30340e37cfcc487eea1f08ebe2e630"
   }
  }
 },
 "nbformat": 4,
 "nbformat_minor": 4
}
